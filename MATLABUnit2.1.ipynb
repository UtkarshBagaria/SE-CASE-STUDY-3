{
 "cells": [
  {
   "cell_type": "code",
   "execution_count": 24,
   "id": "30d4f376",
   "metadata": {},
   "outputs": [],
   "source": [
    "import numpy as np"
   ]
  },
  {
   "cell_type": "code",
   "execution_count": 25,
   "id": "f48e99e4",
   "metadata": {},
   "outputs": [],
   "source": [
    "delhi_population = 1209867\n",
    "kartnataka_population = 3123256"
   ]
  },
  {
   "cell_type": "code",
   "execution_count": 26,
   "id": "c817f15d",
   "metadata": {},
   "outputs": [],
   "source": [
    "matrix_prob =np.array( [[0.5,0.5],[0.45,0.55]])\n",
    "initial_state= [0,1]\n",
    "steps=10000\n",
    "i=0\n",
    "p_matrix = matrix_prob"
   ]
  },
  {
   "cell_type": "code",
   "execution_count": 27,
   "id": "9b50af31",
   "metadata": {},
   "outputs": [],
   "source": [
    "while i<steps:\n",
    " \n",
    "  if p_matrix[1][0] >p_matrix[0][0]:\n",
    "    kartnataka_population = kartnataka_population -1\n",
    "    delhi_population = delhi_population +1\n",
    "  else :\n",
    "    kartnataka_population =kartnataka_population+1\n",
    "    delhi_population =delhi_population-1\n",
    "  pi_matrix = np.matmul(p_matrix,matrix_prob)\n",
    "  i=i+1"
   ]
  },
  {
   "cell_type": "code",
   "execution_count": 28,
   "id": "37bfc196",
   "metadata": {},
   "outputs": [
    {
     "name": "stdout",
     "output_type": "stream",
     "text": [
      "Kartnataka Population:  3133256\n",
      "Delhi Population:  1199867\n"
     ]
    }
   ],
   "source": [
    "print(\"Kartnataka Population: \",kartnataka_population)\n",
    "print(\"Delhi Population: \",delhi_population)"
   ]
  },
  {
   "cell_type": "code",
   "execution_count": null,
   "id": "f6311fff",
   "metadata": {},
   "outputs": [],
   "source": []
  }
 ],
 "metadata": {
  "kernelspec": {
   "display_name": "Python 3 (ipykernel)",
   "language": "python",
   "name": "python3"
  },
  "language_info": {
   "codemirror_mode": {
    "name": "ipython",
    "version": 3
   },
   "file_extension": ".py",
   "mimetype": "text/x-python",
   "name": "python",
   "nbconvert_exporter": "python",
   "pygments_lexer": "ipython3",
   "version": "3.10.1"
  }
 },
 "nbformat": 4,
 "nbformat_minor": 5
}
